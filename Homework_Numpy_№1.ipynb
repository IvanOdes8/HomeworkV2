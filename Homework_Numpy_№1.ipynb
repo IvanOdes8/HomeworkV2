{
 "cells": [
  {
   "cell_type": "code",
   "execution_count": 2,
   "id": "65e7ebe7",
   "metadata": {},
   "outputs": [],
   "source": [
    "import numpy as np"
   ]
  },
  {
   "cell_type": "code",
   "execution_count": 119,
   "id": "48bf17d9",
   "metadata": {},
   "outputs": [
    {
     "data": {
      "text/plain": [
       "array([9, 8, 7, 6, 5, 4, 3, 2, 1, 0])"
      ]
     },
     "execution_count": 119,
     "metadata": {},
     "output_type": "execute_result"
    }
   ],
   "source": [
    "N = 10\n",
    "x = np.arange(N)\n",
    "M = x[::-1]\n",
    "M"
   ]
  },
  {
   "cell_type": "code",
   "execution_count": 124,
   "id": "8ef436ff",
   "metadata": {},
   "outputs": [
    {
     "data": {
      "text/plain": [
       "45"
      ]
     },
     "execution_count": 124,
     "metadata": {},
     "output_type": "execute_result"
    }
   ],
   "source": [
    "y = np.diag(M)\n",
    "np.trace(y)"
   ]
  },
  {
   "cell_type": "code",
   "execution_count": 136,
   "id": "72f17b3f",
   "metadata": {},
   "outputs": [],
   "source": [
    "a = np.array( [ [4,2,1], [1,3,0], [0,5,4]])"
   ]
  },
  {
   "cell_type": "code",
   "execution_count": 137,
   "id": "316e0046",
   "metadata": {},
   "outputs": [],
   "source": [
    "b = np.array( [4,12,-3] )"
   ]
  },
  {
   "cell_type": "code",
   "execution_count": 140,
   "id": "c6afb600",
   "metadata": {},
   "outputs": [],
   "source": [
    "from numpy import linalg"
   ]
  },
  {
   "cell_type": "code",
   "execution_count": 142,
   "id": "bf35b642",
   "metadata": {},
   "outputs": [
    {
     "data": {
      "text/plain": [
       "array([ 0.46666667,  3.84444444, -5.55555556])"
      ]
     },
     "execution_count": 142,
     "metadata": {},
     "output_type": "execute_result"
    }
   ],
   "source": [
    "linalg.solve(a,b)"
   ]
  },
  {
   "cell_type": "code",
   "execution_count": 153,
   "id": "ec680ccd",
   "metadata": {},
   "outputs": [
    {
     "data": {
      "text/plain": [
       "array([[2, 1, 0, 0, 0, 0],\n",
       "       [1, 1, 2, 1, 0, 0],\n",
       "       [2, 0, 1, 0, 0, 0],\n",
       "       [1, 1, 2, 1, 0, 1],\n",
       "       [0, 0, 1, 2, 0, 0],\n",
       "       [0, 0, 0, 0, 0, 5],\n",
       "       [1, 0, 0, 0, 0, 0],\n",
       "       [0, 1, 1, 0, 0, 0],\n",
       "       [0, 0, 0, 1, 1, 3],\n",
       "       [1, 0, 0, 2, 1, 4]])"
      ]
     },
     "execution_count": 153,
     "metadata": {},
     "output_type": "execute_result"
    }
   ],
   "source": [
    "users_stats = np.array(\n",
    "    [\n",
    "        [2, 1, 0, 0, 0, 0],\n",
    "        [1, 1, 2, 1, 0, 0],\n",
    "        [2, 0, 1, 0, 0, 0],\n",
    "        [1, 1, 2, 1, 0, 1],\n",
    "        [0, 0, 1, 2, 0, 0],\n",
    "        [0, 0, 0, 0, 0, 5],\n",
    "        [1, 0, 0, 0, 0, 0],\n",
    "        [0, 1, 1, 0, 0, 0],\n",
    "        [0, 0, 0, 1, 1, 3],\n",
    "        [1, 0, 0, 2, 1, 4]\n",
    "    ], \n",
    "    np.int32\n",
    ")\n",
    "users_stats"
   ]
  },
  {
   "cell_type": "code",
   "execution_count": 154,
   "id": "e67093e9",
   "metadata": {},
   "outputs": [
    {
     "data": {
      "text/plain": [
       "array([0, 1, 2, 0, 0, 0])"
      ]
     },
     "execution_count": 154,
     "metadata": {},
     "output_type": "execute_result"
    }
   ],
   "source": [
    "next_user_stats = np.array([0, 1, 2, 0, 0, 0])\n",
    "next_user_stats"
   ]
  },
  {
   "cell_type": "code",
   "execution_count": 158,
   "id": "2bc1b55c",
   "metadata": {},
   "outputs": [
    {
     "data": {
      "text/plain": [
       "array([1, 5, 2, 5, 2, 0, 0, 3, 0, 0])"
      ]
     },
     "execution_count": 158,
     "metadata": {},
     "output_type": "execute_result"
    }
   ],
   "source": [
    "ScalarA = np.dot(users_stats,next_user_stats)\n",
    "ScalarA"
   ]
  },
  {
   "cell_type": "code",
   "execution_count": 176,
   "id": "963361a6",
   "metadata": {},
   "outputs": [
    {
     "data": {
      "text/plain": [
       "9.539392014169456"
      ]
     },
     "execution_count": 176,
     "metadata": {},
     "output_type": "execute_result"
    }
   ],
   "source": [
    "Length_users_stats = np.linalg.norm(users_stats)\n",
    "Length_users_stats"
   ]
  },
  {
   "cell_type": "code",
   "execution_count": 178,
   "id": "6b7f22ad",
   "metadata": {},
   "outputs": [
    {
     "data": {
      "text/plain": [
       "2.23606797749979"
      ]
     },
     "execution_count": 178,
     "metadata": {},
     "output_type": "execute_result"
    }
   ],
   "source": [
    "Length_next_user_stats = np.linalg.norm(next_user_stats)\n",
    "Length_next_user_stats"
   ]
  },
  {
   "cell_type": "code",
   "execution_count": 180,
   "id": "6f0cd7da",
   "metadata": {},
   "outputs": [
    {
     "data": {
      "text/plain": [
       "21.330729007701542"
      ]
     },
     "execution_count": 180,
     "metadata": {},
     "output_type": "execute_result"
    }
   ],
   "source": [
    "Length = Length_users_stats*Length_next_user_stats\n",
    "Length"
   ]
  },
  {
   "cell_type": "code",
   "execution_count": 181,
   "id": "278568ca",
   "metadata": {},
   "outputs": [
    {
     "data": {
      "text/plain": [
       "array([0.04688072, 0.23440362, 0.09376145, 0.23440362, 0.09376145,\n",
       "       0.        , 0.        , 0.14064217, 0.        , 0.        ])"
      ]
     },
     "execution_count": 181,
     "metadata": {},
     "output_type": "execute_result"
    }
   ],
   "source": [
    "Similar = ScalarA/Length\n",
    "Similar"
   ]
  },
  {
   "cell_type": "code",
   "execution_count": 187,
   "id": "6f930753",
   "metadata": {},
   "outputs": [
    {
     "name": "stdout",
     "output_type": "stream",
     "text": [
      "Самые похожие покупатели под номером/ми -  [2 4]\n"
     ]
    }
   ],
   "source": [
    "Similar_shoper = np.where(Similar == max(Similar))[0]+1\n",
    "print(\"Самые похожие покупатели под номером/ми - \" , Similar_shoper)"
   ]
  }
 ],
 "metadata": {
  "kernelspec": {
   "display_name": "Python 3",
   "language": "python",
   "name": "python3"
  },
  "language_info": {
   "codemirror_mode": {
    "name": "ipython",
    "version": 3
   },
   "file_extension": ".py",
   "mimetype": "text/x-python",
   "name": "python",
   "nbconvert_exporter": "python",
   "pygments_lexer": "ipython3",
   "version": "3.8.8"
  }
 },
 "nbformat": 4,
 "nbformat_minor": 5
}
