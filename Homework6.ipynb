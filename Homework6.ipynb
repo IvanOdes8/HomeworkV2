{
 "cells": [
  {
   "cell_type": "code",
   "execution_count": 28,
   "id": "500b9b51",
   "metadata": {},
   "outputs": [],
   "source": [
    "import os"
   ]
  },
  {
   "cell_type": "code",
   "execution_count": 29,
   "id": "4abf874b",
   "metadata": {},
   "outputs": [],
   "source": [
    "import json"
   ]
  },
  {
   "cell_type": "code",
   "execution_count": 95,
   "id": "af325609",
   "metadata": {},
   "outputs": [
    {
     "name": "stdout",
     "output_type": "stream",
     "text": [
      "{'1840e0b9d4': 'Продукты'}\n",
      "{'1840e0b9d4': 'Продукты', '4e4f90fcfb': 'Электроника'}\n",
      "{'1840e0b9d4': 'Продукты', '4e4f90fcfb': 'Электроника', 'afea8d72fc': 'Электроника'}\n",
      "{'1840e0b9d4': 'Продукты', '4e4f90fcfb': 'Электроника', 'afea8d72fc': 'Электроника', '373a6055fe': 'Бытовая техника'}\n",
      "{'1840e0b9d4': 'Продукты', '4e4f90fcfb': 'Электроника', 'afea8d72fc': 'Электроника', '373a6055fe': 'Бытовая техника', '9b2ab046f3': 'Электроника'}\n",
      "{'1840e0b9d4': 'Продукты', '4e4f90fcfb': 'Электроника', 'afea8d72fc': 'Электроника', '373a6055fe': 'Бытовая техника', '9b2ab046f3': 'Электроника', '9f39d307c3': 'Электроника'}\n"
     ]
    }
   ],
   "source": [
    "purchases = {}\n",
    "i = 0\n",
    "with open(r'D:\\Netology\\HomeworkV2 (не связан с github)\\Downloads\\purchase_log.txt', 'r', encoding = 'utf-8') as f:\n",
    "    content = f.readlines()\n",
    "    \n",
    "    for line in content[1:]:\n",
    "        line=line.strip()\n",
    "        \n",
    "        dict_=json.loads(line)\n",
    "        purchases[dict_['user_id']] = dict_['category']\n",
    "        print(purchases)\n",
    "        \n",
    "        #сделано 5 шагов чтобы увидеть работу цикла.\n",
    "        i += 1\n",
    "        if i > 5:\n",
    "            break"
   ]
  },
  {
   "cell_type": "code",
   "execution_count": 103,
   "id": "c9f2274d",
   "metadata": {},
   "outputs": [],
   "source": [
    "with open(r'D:\\Netology\\HomeworkV2 (не связан с github)\\Downloads\\visit_log.csv', 'r', encoding='utf-8') as f:\n",
    "    with open(r'D:\\Netology\\HomeworkV2 (не связан с github)\\Downloads\\funnel.csv', 'w', encoding='utf-8') as f2write:\n",
    "        for line in f:\n",
    "            line_ = line.strip().split(',')\n",
    "            if line_[0] in purchases:\n",
    "                line_.append(purchases[line_[0]])\n",
    "                f2write.write(','.join(line_) + '\\n')"
   ]
  },
  {
   "cell_type": "code",
   "execution_count": 107,
   "id": "bd7d1f9c",
   "metadata": {},
   "outputs": [
    {
     "name": "stdout",
     "output_type": "stream",
     "text": [
      "funnel.csv\n",
      "purchase_log.txt\n",
      "visit_log.csv\n"
     ]
    }
   ],
   "source": [
    "for file in os.listdir(r'D:\\Netology\\HomeworkV2 (не связан с github)\\Downloads'):\n",
    "    print(file)"
   ]
  },
  {
   "cell_type": "code",
   "execution_count": null,
   "id": "f1f01c77",
   "metadata": {},
   "outputs": [],
   "source": []
  }
 ],
 "metadata": {
  "kernelspec": {
   "display_name": "Python 3",
   "language": "python",
   "name": "python3"
  },
  "language_info": {
   "codemirror_mode": {
    "name": "ipython",
    "version": 3
   },
   "file_extension": ".py",
   "mimetype": "text/x-python",
   "name": "python",
   "nbconvert_exporter": "python",
   "pygments_lexer": "ipython3",
   "version": "3.8.8"
  }
 },
 "nbformat": 4,
 "nbformat_minor": 5
}
