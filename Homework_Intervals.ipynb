{
 "cells": [
  {
   "cell_type": "markdown",
   "metadata": {},
   "source": [
    "# Задания для самостоятельного решения\n"
   ]
  },
  {
   "cell_type": "markdown",
   "metadata": {},
   "source": [
    "<div class=\"alert alert-info\">\n",
    "<b>Задание № 0</b>\n",
    "\n",
    "Найдите минимально необходимый объем выборки для построения интервальной оценки среднего.\n",
    "\n",
    "- желаемая точность $\\Delta$ = 3;\n",
    "- дисперсия $\\sigma^2$  = 225;\n",
    "- уровень доверия $\\beta$ = 0.95.\n",
    "    \n",
    "Ответ округлите до целого\n",
    "</div>"
   ]
  },
  {
   "cell_type": "code",
   "execution_count": 1,
   "metadata": {},
   "outputs": [
    {
     "name": "stdout",
     "output_type": "stream",
     "text": [
      "96\n"
     ]
    }
   ],
   "source": [
    " from scipy.stats import norm\n",
    "\n",
    "delta = 3\n",
    "sigma_squared = 225\n",
    "confidence_level=0.95\n",
    "significance_level = 1 - confidence_level\n",
    "Z = norm.ppf(1-significance_level/2, loc=0, scale=1)\n",
    "\n",
    "n = round((Z*sigma_squared**(1/2)/delta)**2)  #Запишите в эту переменную ваш высчитанный ответ!\n",
    "print(n)"
   ]
  },
  {
   "cell_type": "markdown",
   "metadata": {},
   "source": [
    "<div class=\"alert alert-info\">\n",
    "<b>Задание № 1</b>\n",
    "\n",
    "Постройте `98% доверительный интервал` для среднего значения, если известно, что\n",
    "\n",
    "- объем выборки n = 25;\n",
    "- среднее значение по выборке $\\overline x$ = 130;\n",
    "- Из достоверных источников известно стандартное отклонение $\\sigma = 15$.\n",
    "    \n",
    "В ответ укажите длину полученного доверительного интервала (разницу между правым и левым концом), окруленную до целого\n",
    "</div>"
   ]
  },
  {
   "cell_type": "code",
   "execution_count": 2,
   "metadata": {},
   "outputs": [
    {
     "name": "stdout",
     "output_type": "stream",
     "text": [
      "14\n"
     ]
    }
   ],
   "source": [
    " confidence_level = 0.98\n",
    "n = 25\n",
    "x_mean = 130\n",
    "sigma = 15\n",
    "significance_level = 1 - confidence_level\n",
    "Z = norm.ppf(1-significance_level/2, loc=0, scale=1)\n",
    "\n",
    "L = 2*round(Z*sigma/(n**(1/2)))  #Запишите в эту переменную ваш высчитанный ответ!\n",
    "print(L)"
   ]
  },
  {
   "cell_type": "markdown",
   "metadata": {},
   "source": [
    "### 2. Вам даны две выборки роста мужчин и женщин. Докажите, используя t-Тест Стьдента, что различия между выборками незначительно, если уровень значимости равен 0.001"
   ]
  },
  {
   "cell_type": "markdown",
   "metadata": {},
   "source": [
    "<div class=\"alert alert-info\">\n",
    "<b>Задание № 2</b>\n",
    "\n",
    "Даны две выборки роста мужчин и женщин. \n",
    "- Докажите, используя `t-Тест Стьдента`, что различие между выборками незначительно, если уровень значимости равен $\\alpha$ `= 0.001`.\n",
    "- Покажите различия визуально\n",
    "</div>"
   ]
  },
  {
   "cell_type": "code",
   "execution_count": 5,
   "metadata": {},
   "outputs": [
    {
     "data": {
      "text/plain": [
       "(2.275515360172658, 0.02287573426291163)"
      ]
     },
     "execution_count": 5,
     "metadata": {},
     "output_type": "execute_result"
    }
   ],
   "source": [
    "import scipy.stats as stats\n",
    "import numpy as np\n",
    "import matplotlib.pyplot as plt\n",
    "\n",
    "men  = stats.norm.rvs(loc=171, scale=100, size=150000)  # Выборка мужчин со средним ростом 171\n",
    "women = stats.norm.rvs(loc=170, scale=100, size=150000)  # Выборка женщин со средним ростом 170\n",
    "#В двух строчках выше генерируется две выбороки, где loc это среднее значение, а scale это дисперсия\n",
    "\n",
    "t, p = stats.ttest_ind(men, women)\n",
    "t, p\n"
   ]
  },
  {
   "cell_type": "markdown",
   "metadata": {},
   "source": [
    "#### p-value (второе значение) больше фиксированного уровня значимости α, на котором мы проверяем гипотезу, следовательно, нулевую гипотезу мы не можем отвергнуть. Скорее всего, различие между выборками незначительно."
   ]
  },
  {
   "cell_type": "code",
   "execution_count": 6,
   "metadata": {},
   "outputs": [
    {
     "data": {
      "image/png": "[encoded data removed]",
      "text/plain": [
       "<Figure size 432x288 with 1 Axes>"
      ]
     },
     "metadata": {
      "needs_background": "light"
     },
     "output_type": "display_data"
    }
   ],
   "source": [
    "plt.hist(men, bins=25, alpha=0.3);\n",
    "plt.hist(women, bins=25, alpha=0.3);"
   ]
  },
  {
   "cell_type": "markdown",
   "metadata": {},
   "source": [
    "### 3. Определите объем необходимой выборки для исследования среднего чека за кофе в случайном городе, если известно, что в этом городе стандартное отклонение = 150, уровень доверия = 95%. Погрешность 50 рублей. "
   ]
  },
  {
   "cell_type": "markdown",
   "metadata": {},
   "source": [
    "<div class=\"alert alert-info\">\n",
    "<b>Задание № 3</b>\n",
    "\n",
    "Определите объем необходимой выборки для исследования среднего чека за кофе в случайном городе если известно, что в этом городе:\n",
    "\n",
    "- стандартное отклонение $\\sigma = 150$;\n",
    "- уровень доверия $\\beta$  = 95%;\n",
    "- Погрешность $\\Delta = 50$ рублей.\n",
    "</div>"
   ]
  },
  {
   "cell_type": "code",
   "execution_count": 7,
   "metadata": {},
   "outputs": [
    {
     "name": "stdout",
     "output_type": "stream",
     "text": [
      "35\n"
     ]
    }
   ],
   "source": [
    "delta = 50\n",
    "sigma = 150\n",
    "confidence_level=0.95\n",
    "significance_level = 1 - confidence_level\n",
    "Z = norm.ppf(1-significance_level/2, loc=0, scale=1)\n",
    "\n",
    "n = round((Z*sigma/delta)**2)\n",
    "print(n)"
   ]
  },
  {
   "cell_type": "markdown",
   "metadata": {},
   "source": [
    "<div class=\"alert alert-info\">\n",
    "<b>Задание № 4</b>\n",
    "\n",
    "Представьте, что вы хотите разоблачить \"волшебника\" который считает, что умеет предсказывать погоду на завтра, отвечая просто: дождь или солнце. Вы пронаблюдали за ответами \"волшебника\" в течении какого-то периода времени и получили некие результаты (см.ниже).\n",
    "\n",
    "Можно ли сказать, что маг действительно умеет предсказывать погоду? Уровень значимости принять за `0.05` ($\\alpha=0.05$).\n",
    "</div>"
   ]
  },
  {
   "cell_type": "code",
   "execution_count": 9,
   "metadata": {},
   "outputs": [
    {
     "data": {
      "text/html": [
       "<div>\n",
       "<style scoped>\n",
       "    .dataframe tbody tr th:only-of-type {\n",
       "        vertical-align: middle;\n",
       "    }\n",
       "\n",
       "    .dataframe tbody tr th {\n",
       "        vertical-align: top;\n",
       "    }\n",
       "\n",
       "    .dataframe thead th {\n",
       "        text-align: right;\n",
       "    }\n",
       "</style>\n",
       "<table border=\"1\" class=\"dataframe\">\n",
       "  <thead>\n",
       "    <tr style=\"text-align: right;\">\n",
       "      <th></th>\n",
       "      <th>Верные ответы волшебника</th>\n",
       "      <th>Неверные ответы</th>\n",
       "    </tr>\n",
       "  </thead>\n",
       "  <tbody>\n",
       "    <tr>\n",
       "      <th>Дождь</th>\n",
       "      <td>10</td>\n",
       "      <td>15</td>\n",
       "    </tr>\n",
       "    <tr>\n",
       "      <th>Солнце</th>\n",
       "      <td>39</td>\n",
       "      <td>34</td>\n",
       "    </tr>\n",
       "  </tbody>\n",
       "</table>\n",
       "</div>"
      ],
      "text/plain": [
       "        Верные ответы волшебника  Неверные ответы\n",
       "Дождь                         10               15\n",
       "Солнце                        39               34"
      ]
     },
     "execution_count": 9,
     "metadata": {},
     "output_type": "execute_result"
    }
   ],
   "source": [
    "import pandas as pd  # для работы с таблицами\n",
    "\n",
    "observations = pd.DataFrame([[10, 15],[39, 34]],\n",
    "                            index=['Дождь','Солнце'],\n",
    "                            columns=['Верные ответы волшебника','Неверные ответы'])\n",
    "observations"
   ]
  },
  {
   "cell_type": "code",
   "execution_count": 11,
   "metadata": {},
   "outputs": [
    {
     "data": {
      "text/plain": [
       "(0.5811965811965812, 0.35417955365927367)"
      ]
     },
     "execution_count": 11,
     "metadata": {},
     "output_type": "execute_result"
    }
   ],
   "source": [
    "import scipy.stats as stats\n",
    "# Учтите, что у стат. тестов, в том числе и точного теста Фишера под нулевой гипотезой подразумевается случайность/отсутсвие эффекта\n",
    "\n",
    "oddsratio, pvalue = stats.fisher_exact(observations)#Возможно пригодится эта функция.\n",
    "oddsratio, pvalue"
   ]
  },
  {
   "cell_type": "markdown",
   "metadata": {},
   "source": [
    "#### Критерий Фишера выдал p выше уровня значимости, следовательно, необходимо принять гипотезу, что ответы волшебника случайны."
   ]
  },
  {
   "cell_type": "markdown",
   "metadata": {},
   "source": [
    "<div class=\"alert alert-info\">\n",
    "<b>Задание № 5</b> \n",
    "\n",
    "Используя функцию mean_confidence_interval(data, confidence), постройте доверительный интервал с уровнем доверия $\\beta = 90\\%$ для выборки:\n",
    "\n",
    "</div>"
   ]
  },
  {
   "cell_type": "code",
   "execution_count": 12,
   "metadata": {},
   "outputs": [
    {
     "name": "stdout",
     "output_type": "stream",
     "text": [
      "(6.54, 6.72)\n"
     ]
    }
   ],
   "source": [
    "data = [4,5,8,9,6,7,5,6,7,8,5,6,7,0,9,8,4,6,\n",
    "        7,9,8,6,5,7,8,9,6,7,5,8,6,7,9,5,10]\n",
    "\n",
    "def mean_confidence_interval(data, confidence=0.90):\n",
    "    average = np.mean(data)      \n",
    "    delta = stats.sem(data) * stats.norm.ppf((1 + confidence) / 2) / len(data)**(1/2)\n",
    "    return round(average-delta, 2), round(average+delta, 2)\n",
    "\n",
    "print(mean_confidence_interval(data, 0.90))"
   ]
  },
  {
   "cell_type": "markdown",
   "metadata": {},
   "source": [
    "<div class=\"alert alert-info\">\n",
    "<b>Задание № 6</b>\n",
    "\n",
    "Принадлежат ли выборки `A` и `B` одному множеству? \n",
    "    \n",
    "- Оцените это с помощью известных вам тестов для проверок статистических гипотез;\n",
    "- Покажите различия визуально.\n",
    "</div>"
   ]
  },
  {
   "cell_type": "code",
   "execution_count": 14,
   "metadata": {},
   "outputs": [
    {
     "data": {
      "text/plain": [
       "(11.865233896372924, 4.623319592204015e-25)"
      ]
     },
     "execution_count": 14,
     "metadata": {},
     "output_type": "execute_result"
    }
   ],
   "source": [
    "A = [4,5,8,9,6,7,5,6,7,6,8,5,6,7,8,4,\n",
    "    6,7,9,8,6,5,7,8,6,7,5,6,8,6,7,5,\n",
    "    4,5,8,9,6,7,5,6,7,6,8,5,6,7,8,4,\n",
    "    6,7,9,8,6,5,7,8,6,7,5,6,8,6,7,5,\n",
    "    4,5,8,9,6,7,5,6,7,6,8,5,6,7,8,4,\n",
    "    6,7,9,8,6,5,7,8,6,7,5,6,8,6,7,5,\n",
    "    4,5,8,9,6,7,5,6,7,6,8,5,6,7,8,4]\n",
    "\n",
    "B = [5,6,7,8,4,6,7,2,6,5,7,5,3,5,3,\n",
    "    5,3,5,5,8,7,6,4,5,3,5,4,6,4,5,3,\n",
    "    2,6,4,3,5,4,3,4,5,4,3,4,5,4,3,4,\n",
    "    2,6,4,3,5,4,3,4,5,4,3,4,5,4,3,4,\n",
    "    3,4,4,1,2,4,3,2,4,3,2,1,5,3,4,6,\n",
    "    3,2,4,5,6,4,3,3,5,3,4,4,4,2,5,3]\n",
    " \n",
    "\n",
    "t, p = stats.ttest_ind(A, B)\n",
    "t, p"
   ]
  },
  {
   "cell_type": "code",
   "execution_count": 16,
   "metadata": {},
   "outputs": [],
   "source": [
    "# С уровнем значимости в 0.01 можем утверждать, что это разные выборки с разным мат. ожиданием."
   ]
  },
  {
   "cell_type": "markdown",
   "metadata": {},
   "source": [
    "<div class=\"alert alert-info\">\n",
    "<b>Задание № 7 (задание без подвоха)</b>\n",
    "\n",
    "На примере датасета про жилье в New York City, мы сталкивались с примером, когда переменная имеет не совсем нормальное распределение. \n",
    "\n",
    "- Предположим, Вы сформировали две гипотезы:\n",
    "    - нулевая гипотеза - распределение нормальное;\n",
    "    - альтернативная гипотеза - распределение ненормальное.\n",
    "- допустим, вы применили какой-то тест (сейчас неважно какой), который показал уровень значимости  `p-value = 0.03`. Каковы будут ваши выводы? Будем считать что у нас нормальное распределение или все-таки нет?)\n",
    "    \n",
    "</div>"
   ]
  },
  {
   "cell_type": "code",
   "execution_count": null,
   "metadata": {},
   "outputs": [],
   "source": [
    "### Ваши выводы:"
   ]
  },
  {
   "cell_type": "markdown",
   "metadata": {},
   "source": [
    "<div class=\"alert alert-info\">\n",
    "<b>Задание № 8</b>\n",
    "    \n",
    "Первая выборка — это пациенты, которых лечили препаратом `А`.  Вторая выборка — пациенты, которых лечили препаратом `B`.\n",
    "\n",
    "Значения в выборках — это некоторая характеристика эффективности лечения (уровень метаболита в крови, температура через три дня после начала лечения, срок выздоровления, число койко-дней, и т.д.) \n",
    "\n",
    "- Требуется выяснить, имеется ли значимое различие эффективности препаратов `А` и `B`, или различия являются чисто случайными и объясняются «естественной» дисперсией выбранной характеристики?  (`уровень значимости принять за 0.05 (5%)`)\n",
    "\n",
    "- При каком минимальном p-value различия были бы уже значимы? \n",
    "    \n",
    "- Если выборки незначительно отличаются, то продемонстрируйте это визуально\n",
    "</div>"
   ]
  },
  {
   "cell_type": "code",
   "execution_count": null,
   "metadata": {},
   "outputs": [],
   "source": [
    "np.random.seed(11)\n",
    "A = stats.norm.rvs(scale=15, loc=169, size=300)\n",
    "B = stats.norm.rvs(scale=14, loc=171.4, size=300)\n",
    "\n",
    "### Ваш код:\n",
    "# Подсказка, обратите внимание на Two-sample T-test"
   ]
  },
  {
   "cell_type": "code",
   "execution_count": null,
   "metadata": {},
   "outputs": [],
   "source": [
    " "
   ]
  },
  {
   "cell_type": "code",
   "execution_count": null,
   "metadata": {},
   "outputs": [],
   "source": []
  },
  {
   "cell_type": "code",
   "execution_count": null,
   "metadata": {},
   "outputs": [],
   "source": []
  }
 ],
 "metadata": {
  "kernelspec": {
   "display_name": "Python 3",
   "language": "python",
   "name": "python3"
  },
  "language_info": {
   "codemirror_mode": {
    "name": "ipython",
    "version": 3
   },
   "file_extension": ".py",
   "mimetype": "text/x-python",
   "name": "python",
   "nbconvert_exporter": "python",
   "pygments_lexer": "ipython3",
   "version": "3.8.8"
  },
  "toc": {
   "base_numbering": 1,
   "nav_menu": {},
   "number_sections": true,
   "sideBar": true,
   "skip_h1_title": false,
   "title_cell": "Table of Contents",
   "title_sidebar": "Contents",
   "toc_cell": false,
   "toc_position": {},
   "toc_section_display": true,
   "toc_window_display": false
  }
 },
 "nbformat": 4,
 "nbformat_minor": 4
}
